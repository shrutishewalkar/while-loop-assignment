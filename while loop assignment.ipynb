{
 "cells": [
  {
   "cell_type": "markdown",
   "id": "fb01b8c6-6d90-4ea2-bbe9-b322218f30a1",
   "metadata": {},
   "source": [
    "Q1 Which keyword is use to create a function?\n",
    "Create a function to return a list of odd numbers in the range of 1 to 25."
   ]
  },
  {
   "cell_type": "markdown",
   "id": "459f8664-8b37-41e1-8222-95c121553fe5",
   "metadata": {},
   "source": [
    "The 'def' keyword is used to create a function in python."
   ]
  },
  {
   "cell_type": "code",
   "execution_count": 4,
   "id": "d5caaa55-8db1-4a19-b14b-2a047c16a73a",
   "metadata": {},
   "outputs": [
    {
     "name": "stdout",
     "output_type": "stream",
     "text": [
      "[1, 3, 5, 7, 9, 11, 13, 15, 17, 19, 21, 23, 25]\n"
     ]
    }
   ],
   "source": [
    "def odd_numbers():\n",
    "    '''\n",
    "    This function return a list of odd number in the range 1 to 25 \n",
    "    '''\n",
    "    numbers_list=list(range(1,26))\n",
    "    resultant_list=[each_number for each_number in numbers_list if each_number%2==1]\n",
    "    return resultant_list\n",
    "\n",
    "print(odd_numbers())"
   ]
  },
  {
   "cell_type": "markdown",
   "id": "ac256dbd-25b7-408e-9138-93d7d1477644",
   "metadata": {},
   "source": [
    "Q2 Why args and kwargs are used in some functions? Create a function each for args and kwargs to demonstrate their use."
   ]
  },
  {
   "cell_type": "code",
   "execution_count": 5,
   "id": "1606228a-8d2d-47f4-bbfa-9dae5ec806b1",
   "metadata": {},
   "outputs": [
    {
     "name": "stdout",
     "output_type": "stream",
     "text": [
      "[9, 16, 25, 36]\n"
     ]
    }
   ],
   "source": [
    "def dem_args(*args):\n",
    "    '''\n",
    "    This function returns a list containing square of numbers\n",
    "    '''\n",
    "    result=[each_arg**2 for each_arg in args]\n",
    "    return result\n",
    "\n",
    "print(dem_args(3,4,5,6))"
   ]
  },
  {
   "cell_type": "markdown",
   "id": "68534cd3-01e1-4e2e-8480-9c0431e3e37e",
   "metadata": {},
   "source": [
    "kwargs allows us to pass a variable number of keyword arguments to a Python function."
   ]
  },
  {
   "cell_type": "code",
   "execution_count": 6,
   "id": "79eb080e-523a-48a0-ad44-9eda201a1ba3",
   "metadata": {},
   "outputs": [
    {
     "name": "stdout",
     "output_type": "stream",
     "text": [
      "{'name': 'owais', 'age': 27}\n"
     ]
    }
   ],
   "source": [
    "def dem_kwargs(**kwargs):\n",
    "    '''\n",
    "    This function returns a dictionary of input keyword arguments\n",
    "    '''\n",
    "    print(kwargs)\n",
    "\n",
    "dem_kwargs(name ='owais', age =27)"
   ]
  },
  {
   "cell_type": "markdown",
   "id": "c172dc0e-4fe3-4a60-98df-badf4305c631",
   "metadata": {},
   "source": [
    "Q3 What is an iterator in python? Name the method used to initialise the iterator object and the method used for iteration.\n",
    "Use these methods to print the first five elements of the given list [2,4,6,8,10,12,14,16,20]"
   ]
  },
  {
   "cell_type": "markdown",
   "id": "c6e61a8f-fcfc-408c-b285-eb44c07fd282",
   "metadata": {},
   "source": [
    "Ans: An iterator is an object that contains a countable number of values.\n",
    "An iterator is an object that can be iterated upon, meaning that you can traverse through all the values.\n",
    "\n",
    "The method used to initialise an iterator is iter(), which is used to get an iterator"
   ]
  },
  {
   "cell_type": "code",
   "execution_count": 7,
   "id": "ab3c106e-a26f-45c0-a8c7-35f4bde6a1bb",
   "metadata": {},
   "outputs": [
    {
     "name": "stdout",
     "output_type": "stream",
     "text": [
      "2\n",
      "4\n",
      "6\n",
      "8\n",
      "10\n"
     ]
    }
   ],
   "source": [
    "given_list = [2,4,6,8,10,12,14,16,20]\n",
    "\n",
    "i=0\n",
    "myiter = iter(given_list)\n",
    "while i<+5:\n",
    "    print(next(myiter))\n",
    "    i+=1"
   ]
  },
  {
   "cell_type": "markdown",
   "id": "5cc11a4b-2c08-4dd2-b12e-13c76735a959",
   "metadata": {},
   "source": [
    "Q4 What is a generator function in python? Why yield is used? Give an example of a generator function."
   ]
  },
  {
   "cell_type": "markdown",
   "id": "798720bd-c786-4465-8b8a-8013e9b6303d",
   "metadata": {},
   "source": [
    "In Python, a generator is a function that returns an iterator that produces a sequence of values when iterated over.\n",
    "\n",
    "yield keyword is used to create a generator function. A type of function that is memory efficient and can be used like an iterator object. In layman terms, the yield keyword will turn any expression that is given with it into a generator object and return it to the caller."
   ]
  },
  {
   "cell_type": "code",
   "execution_count": 8,
   "id": "dfcd04eb-d915-4b64-9e25-90a7aafb3ae2",
   "metadata": {},
   "outputs": [
    {
     "name": "stdout",
     "output_type": "stream",
     "text": [
      "5\n",
      "10\n",
      "15\n",
      "20\n",
      "25\n",
      "30\n",
      "35\n",
      "40\n",
      "45\n"
     ]
    }
   ],
   "source": [
    "def my_generator():\n",
    "    '''\n",
    "    This generator function yields multiples of 5 in the range 1 to 50\n",
    "    '''\n",
    "    total_nums=list(range(1,50))\n",
    "    for each_num in total_nums:\n",
    "        if each_num%5==0:\n",
    "            yield each_num\n",
    "\n",
    "for each_num in my_generator():\n",
    "    print(each_num)"
   ]
  },
  {
   "cell_type": "markdown",
   "id": "a8d297a1-ecee-4e7d-9c21-379eceafd8fb",
   "metadata": {},
   "source": [
    "Q5 Create a generator function for prime numbers less than 1000.\n",
    "Use the next() method to print the first 20 prime numbers."
   ]
  },
  {
   "cell_type": "code",
   "execution_count": 1,
   "id": "74db3675-fedd-4601-b7bf-aa2ae82ca5a2",
   "metadata": {},
   "outputs": [
    {
     "name": "stdout",
     "output_type": "stream",
     "text": [
      "2\n",
      "3\n",
      "5\n",
      "7\n",
      "11\n",
      "13\n",
      "17\n",
      "19\n",
      "23\n",
      "29\n",
      "31\n",
      "37\n",
      "41\n",
      "43\n",
      "47\n",
      "53\n",
      "59\n",
      "61\n",
      "67\n",
      "71\n"
     ]
    }
   ],
   "source": [
    "def prime_numbers():\n",
    "    '''\n",
    "    This generator function generates the first 20 prime numbers in the range 2 to 1000\n",
    "    '''\n",
    "    primes = []\n",
    "    for num in range(2, 1000):\n",
    "        for prime in primes:\n",
    "            if num % prime == 0:\n",
    "                break\n",
    "        else:\n",
    "            primes.append(num)\n",
    "            yield num\n",
    "\n",
    "# Print the first 20 prime numbers\n",
    "prime = prime_numbers()\n",
    "for i in range(1,21):\n",
    "    print(next(prime))"
   ]
  },
  {
   "cell_type": "markdown",
   "id": "1316a9d7-46c8-4325-952e-9de3a30f0ac9",
   "metadata": {},
   "source": [
    "Q6 Write a list comprehension to iterate through the given string: 'pwskills'.\n",
    "Expected output: ['p','w','s','k','i','l','l','s']"
   ]
  },
  {
   "cell_type": "code",
   "execution_count": 2,
   "id": "5fe156ed-fe8b-4b8f-beb9-9d0f76d6a517",
   "metadata": {},
   "outputs": [
    {
     "name": "stdout",
     "output_type": "stream",
     "text": [
      "['p', 'w', 's', 'k', 'i', 'l', 'l', 's']\n"
     ]
    }
   ],
   "source": [
    "string = 'pwskills'\n",
    "\n",
    "result =[each_letter for each_letter in string]\n",
    "print(result)"
   ]
  },
  {
   "cell_type": "markdown",
   "id": "6f5ddd3c-6754-4ddf-92bb-f475a30c6fc5",
   "metadata": {},
   "source": [
    "Q8 Write a code to print odd number from 1 to 100 using list comprehension.\n",
    "Use a list comprehension to create a list from 1 to 100 and use another list comprehension to filter out odd numbers."
   ]
  },
  {
   "cell_type": "code",
   "execution_count": 1,
   "id": "dc14884f-e235-4cb3-90d4-dee008c3f9d7",
   "metadata": {},
   "outputs": [
    {
     "name": "stdout",
     "output_type": "stream",
     "text": [
      "[1, 3, 5, 7, 9, 11, 13, 15, 17, 19, 21, 23, 25, 27, 29, 31, 33, 35, 37, 39, 41, 43, 45, 47, 49, 51, 53, 55, 57, 59, 61, 63, 65, 67, 69, 71, 73, 75, 77, 79, 81, 83, 85, 87, 89, 91, 93, 95, 97, 99]\n"
     ]
    }
   ],
   "source": [
    "numbers_list = [nums for nums in range(1,101)]\n",
    "odd_list = [each_num for each_num in numbers_list if each_num%2==1]\n",
    "print(odd_list)"
   ]
  },
  {
   "cell_type": "code",
   "execution_count": null,
   "id": "efb87cc2-4a78-4544-a7f8-272cd8a38384",
   "metadata": {},
   "outputs": [],
   "source": []
  }
 ],
 "metadata": {
  "kernelspec": {
   "display_name": "Python 3 (ipykernel)",
   "language": "python",
   "name": "python3"
  },
  "language_info": {
   "codemirror_mode": {
    "name": "ipython",
    "version": 3
   },
   "file_extension": ".py",
   "mimetype": "text/x-python",
   "name": "python",
   "nbconvert_exporter": "python",
   "pygments_lexer": "ipython3",
   "version": "3.10.8"
  }
 },
 "nbformat": 4,
 "nbformat_minor": 5
}
